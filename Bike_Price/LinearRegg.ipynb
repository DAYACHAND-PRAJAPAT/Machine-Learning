{
 "cells": [
  {
   "cell_type": "code",
   "execution_count": null,
   "id": "78798849",
   "metadata": {},
   "outputs": [],
   "source": [
    "import pandas as pd\n",
    "import numpy as np\n",
    "import matplotlib.pyplot as plt\n",
    "import seaborn as sns"
   ]
  },
  {
   "cell_type": "code",
   "execution_count": null,
   "id": "e583f88f",
   "metadata": {},
   "outputs": [],
   "source": [
    "df = pd.read_csv('Used_Bikes.csv')\n",
    "df"
   ]
  },
  {
   "cell_type": "code",
   "execution_count": null,
   "id": "1b97f03c",
   "metadata": {},
   "outputs": [],
   "source": [
    "## Features selection(imp step)\n",
    "cat_col = df.drop([\"bike_name\",\"city\"],axis=1)\n",
    "cat_col.head()"
   ]
  },
  {
   "cell_type": "code",
   "execution_count": null,
   "id": "ed29bc85",
   "metadata": {},
   "outputs": [],
   "source": [
    "# to seperate the catagorical column\n",
    "cat_col = cat_col.select_dtypes(include=\"O\")\n",
    "cat_col.head()"
   ]
  },
  {
   "cell_type": "code",
   "execution_count": null,
   "id": "1e3619f7",
   "metadata": {},
   "outputs": [],
   "source": [
    "# to seperate the numerical column\n",
    "num_col = df.select_dtypes(exclude=\"O\")\n",
    "num_col.head()"
   ]
  },
  {
   "cell_type": "code",
   "execution_count": null,
   "id": "2f2b3597",
   "metadata": {},
   "outputs": [],
   "source": [
    "df.duplicated().sum()\n",
    "df.drop_duplicates()"
   ]
  },
  {
   "cell_type": "code",
   "execution_count": null,
   "id": "619932b2",
   "metadata": {},
   "outputs": [],
   "source": [
    "## Encoding -> char , num\n",
    "# 1. label encoding\n",
    "# 2. one hot encoding\n",
    "\n",
    "# 2. one hot encoding\n",
    "pd.get_dummies(cat_col).astype(int).head()"
   ]
  },
  {
   "cell_type": "code",
   "execution_count": null,
   "id": "a6ed4ff6",
   "metadata": {},
   "outputs": [],
   "source": [
    "# label encoding using pandas ->\n",
    "cat_col[\"owner\"].value_counts()"
   ]
  },
  {
   "cell_type": "code",
   "execution_count": null,
   "id": "201af445",
   "metadata": {},
   "outputs": [],
   "source": [
    "dt = {\n",
    "    \"First Owner\" : 1,\n",
    "    \"Second Owner\" : 2,\n",
    "    \"Third Owner\" : 3,\n",
    "    \"Fourth Owner Or More\" : 4\n",
    "}"
   ]
  },
  {
   "cell_type": "code",
   "execution_count": null,
   "id": "d9d67351",
   "metadata": {},
   "outputs": [],
   "source": [
    "cat_col[\"owner\"] = cat_col[\"owner\"].map(dt)\n",
    "cat_col.head()"
   ]
  },
  {
   "cell_type": "code",
   "execution_count": null,
   "id": "1082a89e",
   "metadata": {},
   "outputs": [],
   "source": [
    "cat_col[\"brand\"].value_counts()"
   ]
  },
  {
   "cell_type": "code",
   "execution_count": null,
   "id": "502f18f7",
   "metadata": {},
   "outputs": [],
   "source": [
    "{i: key for key,i in enumerate(list(cat_col[\"brand\"].unique()))}"
   ]
  },
  {
   "cell_type": "code",
   "execution_count": null,
   "id": "e975328a",
   "metadata": {},
   "outputs": [],
   "source": [
    "dt1 = {\n",
    "'TVS': 0,\n",
    " 'Royal Enfield': 1,\n",
    " 'Triumph': 2,\n",
    " 'Yamaha': 3,\n",
    " 'Honda': 4,\n",
    " 'Hero': 5,\n",
    " 'Bajaj': 6,\n",
    " 'Suzuki': 7,\n",
    " 'Benelli': 8,\n",
    " 'KTM': 9,\n",
    " 'Mahindra': 10,\n",
    " 'Kawasaki': 11,\n",
    " 'Ducati': 12,\n",
    " 'Hyosung': 13,\n",
    " 'Harley-Davidson': 14,\n",
    " 'Jawa': 15,\n",
    " 'BMW': 16,\n",
    " 'Indian': 17,\n",
    " 'Rajdoot': 18,\n",
    " 'LML': 19,\n",
    " 'Yezdi': 20,\n",
    " 'MV': 21,\n",
    " 'Ideal': 22\n",
    "}\n",
    "\n",
    "cat_col[\"brand\"] = cat_col[\"brand\"].map(dt1)\n",
    "cat_col.head()"
   ]
  },
  {
   "cell_type": "code",
   "execution_count": null,
   "id": "b3e35be0",
   "metadata": {},
   "outputs": [],
   "source": [
    "# concate \n",
    "final_df = pd.concat([cat_col,num_col],axis=1)\n",
    "final_df.head()"
   ]
  },
  {
   "cell_type": "code",
   "execution_count": null,
   "id": "916f8d84",
   "metadata": {},
   "outputs": [],
   "source": [
    "# Correlation Analysis(Correlation matrix)\n",
    "metrix=final_df.corr()\n",
    "metrix.head()"
   ]
  },
  {
   "cell_type": "code",
   "execution_count": null,
   "id": "11e7760a",
   "metadata": {},
   "outputs": [],
   "source": [
    "# Visualization\n",
    "sns.heatmap(metrix,annot=True)\n",
    "plt.show()"
   ]
  },
  {
   "cell_type": "code",
   "execution_count": null,
   "id": "69d7335c",
   "metadata": {},
   "outputs": [],
   "source": [
    "# preparing y(target) and x(features) for training\n",
    "y = final_df[\"price\"]\n",
    "x = final_df.drop(\"price\",axis=1)"
   ]
  },
  {
   "cell_type": "code",
   "execution_count": null,
   "id": "4ba6b6fe",
   "metadata": {},
   "outputs": [],
   "source": [
    "## train and testing\n",
    "from sklearn.model_selection import train_test_split\n",
    "\n",
    "x_train, x_test, y_train, y_test = train_test_split(\n",
    "    x, y, test_size=0.2,\n",
    "    random_state=42\n",
    ")"
   ]
  },
  {
   "cell_type": "code",
   "execution_count": null,
   "id": "89e999cc",
   "metadata": {},
   "outputs": [],
   "source": [
    "## Algorithm\n",
    "from sklearn.linear_model import LinearRegression\n",
    "\n",
    "model = LinearRegression()\n",
    "model.fit(x_train,y_train)"
   ]
  },
  {
   "cell_type": "code",
   "execution_count": null,
   "id": "9fffaba5",
   "metadata": {},
   "outputs": [],
   "source": [
    "# to save the model\n",
    "import joblib,pickle\n",
    "joblib.dump(model,\"Bike_prediction_model.lb\")"
   ]
  },
  {
   "cell_type": "code",
   "execution_count": null,
   "id": "34ab4ff3",
   "metadata": {},
   "outputs": [],
   "source": [
    "model.score(x_test,y_test)"
   ]
  },
  {
   "cell_type": "code",
   "execution_count": null,
   "id": "c5b431c6",
   "metadata": {},
   "outputs": [],
   "source": [
    "model.score(x_train,y_train)"
   ]
  },
  {
   "cell_type": "code",
   "execution_count": null,
   "id": "97610dda",
   "metadata": {},
   "outputs": [],
   "source": [
    "y_pred = model.predict(x_test)\n",
    "y_pred"
   ]
  },
  {
   "cell_type": "code",
   "execution_count": null,
   "id": "e1aeddf3",
   "metadata": {},
   "outputs": [],
   "source": [
    "df2 = pd.DataFrame({\"Actual\":y_test,\"Predicted\":y_pred})\n",
    "df2.head()"
   ]
  },
  {
   "cell_type": "code",
   "execution_count": null,
   "id": "8acba9b5",
   "metadata": {},
   "outputs": [],
   "source": [
    "# ploting a graph\n",
    "\n",
    "plt.scatter(y_test,y_pred)\n",
    "plt.xlabel(\"Actual\")\n",
    "plt.ylabel(\"Predicted\")\n",
    "plt.plot(y_test,y_test,color=\"red\")\n",
    "plt.show()"
   ]
  }
 ],
 "metadata": {
  "kernelspec": {
   "display_name": "base",
   "language": "python",
   "name": "python3"
  },
  "language_info": {
   "codemirror_mode": {
    "name": "ipython",
    "version": 3
   },
   "file_extension": ".py",
   "mimetype": "text/x-python",
   "name": "python",
   "nbconvert_exporter": "python",
   "pygments_lexer": "ipython3",
   "version": "3.12.7"
  }
 },
 "nbformat": 4,
 "nbformat_minor": 5
}
